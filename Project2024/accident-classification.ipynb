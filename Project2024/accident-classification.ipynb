{
 "cells": [
  {
   "cell_type": "code",
   "execution_count": 1,
   "id": "c22e4849",
   "metadata": {
    "_cell_guid": "b1076dfc-b9ad-4769-8c92-a6c4dae69d19",
    "_uuid": "8f2839f25d086af736a60e9eeb907d3b93b6e0e5",
    "papermill": {
     "duration": 6.715324,
     "end_time": "2022-06-06T11:22:10.972115",
     "exception": false,
     "start_time": "2022-06-06T11:22:04.256791",
     "status": "completed"
    },
    "scrolled": true,
    "tags": []
   },
   "outputs": [
    {
     "name": "stdout",
     "output_type": "stream",
     "text": [
      "WARNING:tensorflow:From C:\\Users\\YUVARAJ\\anaconda3\\Lib\\site-packages\\keras\\src\\losses.py:2976: The name tf.losses.sparse_softmax_cross_entropy is deprecated. Please use tf.compat.v1.losses.sparse_softmax_cross_entropy instead.\n",
      "\n"
     ]
    }
   ],
   "source": [
    "import numpy as np\n",
    "import pandas as pd \n",
    "import matplotlib.pyplot as plt\n",
    "import tensorflow as tf\n",
    "from tensorflow.keras import layers\n",
    "from time import perf_counter \n",
    "import os\n",
    "from keras.callbacks import ModelCheckpoint\n",
    "from keras.models import load_model\n",
    "from tensorflow.keras.utils import plot_model"
   ]
  },
  {
   "cell_type": "code",
   "execution_count": 2,
   "id": "75070279",
   "metadata": {
    "papermill": {
     "duration": 0.021664,
     "end_time": "2022-06-06T11:22:11.008874",
     "exception": false,
     "start_time": "2022-06-06T11:22:10.987210",
     "status": "completed"
    },
    "tags": []
   },
   "outputs": [],
   "source": [
    "## Defining batch specfications\n",
    "batch_size = 100\n",
    "img_height = 250\n",
    "img_width = 250"
   ]
  },
  {
   "cell_type": "code",
   "execution_count": 3,
   "id": "eed3d696",
   "metadata": {
    "papermill": {
     "duration": 0.258275,
     "end_time": "2022-06-06T11:22:11.281841",
     "exception": false,
     "start_time": "2022-06-06T11:22:11.023566",
     "status": "completed"
    },
    "tags": []
   },
   "outputs": [
    {
     "name": "stdout",
     "output_type": "stream",
     "text": [
      "Found 791 files belonging to 2 classes.\n"
     ]
    }
   ],
   "source": [
    "## loading training set\n",
    "training_data = tf.keras.preprocessing.image_dataset_from_directory(\n",
    "    'data/train',\n",
    "    seed=42,\n",
    "    image_size= (img_height, img_width),\n",
    "    batch_size=batch_size,\n",
    "    color_mode='rgb'\n",
    ")"
   ]
  },
  {
   "cell_type": "code",
   "execution_count": 4,
   "id": "d52bb780",
   "metadata": {
    "papermill": {
     "duration": 0.141084,
     "end_time": "2022-06-06T11:22:11.438707",
     "exception": false,
     "start_time": "2022-06-06T11:22:11.297623",
     "status": "completed"
    },
    "tags": []
   },
   "outputs": [
    {
     "name": "stdout",
     "output_type": "stream",
     "text": [
      "Found 98 files belonging to 2 classes.\n"
     ]
    }
   ],
   "source": [
    "## loading validation dataset\n",
    "validation_data =  tf.keras.preprocessing.image_dataset_from_directory(\n",
    "    'data/val',\n",
    "    seed=42,\n",
    "    image_size= (img_height, img_width),\n",
    "    batch_size=batch_size,\n",
    "    color_mode='rgb'\n",
    ")"
   ]
  },
  {
   "cell_type": "code",
   "execution_count": 5,
   "id": "a5216ed0",
   "metadata": {
    "papermill": {
     "duration": 0.142358,
     "end_time": "2022-06-06T11:22:11.597671",
     "exception": false,
     "start_time": "2022-06-06T11:22:11.455313",
     "status": "completed"
    },
    "tags": []
   },
   "outputs": [
    {
     "name": "stdout",
     "output_type": "stream",
     "text": [
      "Found 100 files belonging to 2 classes.\n"
     ]
    }
   ],
   "source": [
    "## loading testing dataset\n",
    "testing_data = tf.keras.preprocessing.image_dataset_from_directory(\n",
    "    'data/test',\n",
    "    seed=42,\n",
    "    image_size= (img_height, img_width),\n",
    "    batch_size=batch_size,\n",
    "    color_mode='rgb'\n",
    ")"
   ]
  },
  {
   "cell_type": "code",
   "execution_count": 6,
   "id": "0f6cb045",
   "metadata": {
    "papermill": {
     "duration": 0.029358,
     "end_time": "2022-06-06T11:22:11.643040",
     "exception": false,
     "start_time": "2022-06-06T11:22:11.613682",
     "status": "completed"
    },
    "tags": []
   },
   "outputs": [
    {
     "data": {
      "text/plain": [
       "<_PrefetchDataset element_spec=(TensorSpec(shape=(None, 250, 250, 3), dtype=tf.float32, name=None), TensorSpec(shape=(None,), dtype=tf.int32, name=None))>"
      ]
     },
     "execution_count": 6,
     "metadata": {},
     "output_type": "execute_result"
    }
   ],
   "source": [
    "testing_data"
   ]
  },
  {
   "cell_type": "code",
   "execution_count": 7,
   "id": "cca4892e",
   "metadata": {
    "papermill": {
     "duration": 0.025718,
     "end_time": "2022-06-06T11:22:11.685637",
     "exception": false,
     "start_time": "2022-06-06T11:22:11.659919",
     "status": "completed"
    },
    "tags": []
   },
   "outputs": [
    {
     "data": {
      "text/plain": [
       "['Accident', 'Non Accident']"
      ]
     },
     "execution_count": 7,
     "metadata": {},
     "output_type": "execute_result"
    }
   ],
   "source": [
    "class_names = training_data.class_names\n",
    "class_names"
   ]
  },
  {
   "cell_type": "code",
   "execution_count": 8,
   "id": "5176cc78",
   "metadata": {
    "papermill": {
     "duration": 0.027549,
     "end_time": "2022-06-06T11:22:11.729835",
     "exception": false,
     "start_time": "2022-06-06T11:22:11.702286",
     "status": "completed"
    },
    "tags": []
   },
   "outputs": [],
   "source": [
    "## Configuring dataset for performance\n",
    "AUTOTUNE = tf.data.experimental.AUTOTUNE\n",
    "training_data = training_data.cache().prefetch(buffer_size=AUTOTUNE)\n",
    "testing_data = testing_data.cache().prefetch(buffer_size=AUTOTUNE)"
   ]
  },
  {
   "cell_type": "code",
   "execution_count": 9,
   "id": "82bc89e3",
   "metadata": {
    "papermill": {
     "duration": 0.079717,
     "end_time": "2022-06-06T11:22:11.827076",
     "exception": false,
     "start_time": "2022-06-06T11:22:11.747359",
     "status": "completed"
    },
    "tags": []
   },
   "outputs": [
    {
     "name": "stdout",
     "output_type": "stream",
     "text": [
      "WARNING:tensorflow:From C:\\Users\\YUVARAJ\\anaconda3\\Lib\\site-packages\\keras\\src\\backend.py:873: The name tf.get_default_graph is deprecated. Please use tf.compat.v1.get_default_graph instead.\n",
      "\n",
      "WARNING:tensorflow:From C:\\Users\\YUVARAJ\\anaconda3\\Lib\\site-packages\\keras\\src\\layers\\pooling\\max_pooling2d.py:161: The name tf.nn.max_pool is deprecated. Please use tf.nn.max_pool2d instead.\n",
      "\n",
      "WARNING:tensorflow:From C:\\Users\\YUVARAJ\\anaconda3\\Lib\\site-packages\\keras\\src\\optimizers\\__init__.py:309: The name tf.train.Optimizer is deprecated. Please use tf.compat.v1.train.Optimizer instead.\n",
      "\n"
     ]
    }
   ],
   "source": [
    "## Defining Cnn\n",
    "model = tf.keras.models.Sequential([\n",
    "  layers.BatchNormalization(),\n",
    "  layers.Conv2D(32, 3, activation='relu'), # Conv2D(f_size, filter_size, activation) # relu, sigmoid, softmax\n",
    "  layers.MaxPooling2D(), # MaxPooling\n",
    "  layers.Conv2D(64, 3, activation='relu'),\n",
    "  layers.MaxPooling2D(),\n",
    "  layers.Conv2D(128, 3, activation='relu'),\n",
    "  layers.MaxPooling2D(),\n",
    "  layers.Conv2D(256, 3, activation='relu'),\n",
    "  layers.MaxPooling2D(),\n",
    "  layers.Flatten(),\n",
    "  layers.Dropout(0.5), \n",
    "  layers.Dense(512, activation='relu'),\n",
    "  layers.Dense(len(class_names), activation= 'softmax')\n",
    "])\n",
    "\n",
    "model.compile(optimizer='adam',loss='sparse_categorical_crossentropy', metrics=['accuracy'])"
   ]
  },
  {
   "cell_type": "code",
   "execution_count": 10,
   "id": "3c69caf5",
   "metadata": {
    "papermill": {
     "duration": 0.306291,
     "end_time": "2022-06-06T11:22:12.150305",
     "exception": false,
     "start_time": "2022-06-06T11:22:11.844014",
     "status": "completed"
    },
    "tags": []
   },
   "outputs": [
    {
     "name": "stdout",
     "output_type": "stream",
     "text": [
      "Model: \"sequential\"\n",
      "_________________________________________________________________\n",
      " Layer (type)                Output Shape              Param #   \n",
      "=================================================================\n",
      " batch_normalization (Batch  (None, 250, 250, 3)       12        \n",
      " Normalization)                                                  \n",
      "                                                                 \n",
      " conv2d (Conv2D)             (None, 248, 248, 32)      896       \n",
      "                                                                 \n",
      " max_pooling2d (MaxPooling2  (None, 124, 124, 32)      0         \n",
      " D)                                                              \n",
      "                                                                 \n",
      " conv2d_1 (Conv2D)           (None, 122, 122, 64)      18496     \n",
      "                                                                 \n",
      " max_pooling2d_1 (MaxPoolin  (None, 61, 61, 64)        0         \n",
      " g2D)                                                            \n",
      "                                                                 \n",
      " conv2d_2 (Conv2D)           (None, 59, 59, 128)       73856     \n",
      "                                                                 \n",
      " max_pooling2d_2 (MaxPoolin  (None, 29, 29, 128)       0         \n",
      " g2D)                                                            \n",
      "                                                                 \n",
      " conv2d_3 (Conv2D)           (None, 27, 27, 256)       295168    \n",
      "                                                                 \n",
      " max_pooling2d_3 (MaxPoolin  (None, 13, 13, 256)       0         \n",
      " g2D)                                                            \n",
      "                                                                 \n",
      " flatten (Flatten)           (None, 43264)             0         \n",
      "                                                                 \n",
      " dropout (Dropout)           (None, 43264)             0         \n",
      "                                                                 \n",
      " dense (Dense)               (None, 512)               22151680  \n",
      "                                                                 \n",
      " dense_1 (Dense)             (None, 2)                 1026      \n",
      "                                                                 \n",
      "=================================================================\n",
      "Total params: 22541134 (85.99 MB)\n",
      "Trainable params: 22541128 (85.99 MB)\n",
      "Non-trainable params: 6 (24.00 Byte)\n",
      "_________________________________________________________________\n"
     ]
    }
   ],
   "source": [
    "model.build((None, 250, 250, 3))\n",
    "model.summary()"
   ]
  },
  {
   "cell_type": "code",
   "execution_count": 11,
   "id": "c18e9b4f",
   "metadata": {
    "papermill": {
     "duration": 1.281486,
     "end_time": "2022-06-06T11:22:13.449301",
     "exception": false,
     "start_time": "2022-06-06T11:22:12.167815",
     "status": "completed"
    },
    "tags": []
   },
   "outputs": [
    {
     "name": "stdout",
     "output_type": "stream",
     "text": [
      "You must install pydot (`pip install pydot`) and install graphviz (see instructions at https://graphviz.gitlab.io/download/) for plot_model to work.\n"
     ]
    }
   ],
   "source": [
    "plot_model(model, show_shapes=True)"
   ]
  },
  {
   "cell_type": "code",
   "execution_count": 12,
   "id": "0192e7be",
   "metadata": {
    "papermill": {
     "duration": 1370.724139,
     "end_time": "2022-06-06T11:45:04.194454",
     "exception": false,
     "start_time": "2022-06-06T11:22:13.470315",
     "status": "completed"
    },
    "tags": []
   },
   "outputs": [
    {
     "name": "stdout",
     "output_type": "stream",
     "text": [
      "Epoch 1/25\n",
      "WARNING:tensorflow:From C:\\Users\\YUVARAJ\\anaconda3\\Lib\\site-packages\\keras\\src\\utils\\tf_utils.py:492: The name tf.ragged.RaggedTensorValue is deprecated. Please use tf.compat.v1.ragged.RaggedTensorValue instead.\n",
      "\n",
      "WARNING:tensorflow:From C:\\Users\\YUVARAJ\\anaconda3\\Lib\\site-packages\\keras\\src\\engine\\base_layer_utils.py:384: The name tf.executing_eagerly_outside_functions is deprecated. Please use tf.compat.v1.executing_eagerly_outside_functions instead.\n",
      "\n",
      "8/8 [==============================] - ETA: 0s - loss: 2.0073 - accuracy: 0.5537 \n",
      "Epoch 1: val_accuracy improved from -inf to 0.46939, saving model to model_weights.h5\n"
     ]
    },
    {
     "name": "stderr",
     "output_type": "stream",
     "text": [
      "C:\\Users\\YUVARAJ\\anaconda3\\Lib\\site-packages\\keras\\src\\engine\\training.py:3103: UserWarning: You are saving your model as an HDF5 file via `model.save()`. This file format is considered legacy. We recommend using instead the native Keras format, e.g. `model.save('my_model.keras')`.\n",
      "  saving_api.save_model(\n"
     ]
    },
    {
     "name": "stdout",
     "output_type": "stream",
     "text": [
      "8/8 [==============================] - 119s 13s/step - loss: 2.0073 - accuracy: 0.5537 - val_loss: 0.7483 - val_accuracy: 0.4694\n",
      "Epoch 2/25\n",
      "8/8 [==============================] - ETA: 0s - loss: 0.6883 - accuracy: 0.5891\n",
      "Epoch 2: val_accuracy did not improve from 0.46939\n",
      "8/8 [==============================] - 50s 6s/step - loss: 0.6883 - accuracy: 0.5891 - val_loss: 1.1622 - val_accuracy: 0.4694\n",
      "Epoch 3/25\n",
      "8/8 [==============================] - ETA: 0s - loss: 0.6657 - accuracy: 0.6005\n",
      "Epoch 3: val_accuracy did not improve from 0.46939\n",
      "8/8 [==============================] - 56s 7s/step - loss: 0.6657 - accuracy: 0.6005 - val_loss: 0.7181 - val_accuracy: 0.4694\n",
      "Epoch 4/25\n",
      "8/8 [==============================] - ETA: 0s - loss: 0.6404 - accuracy: 0.6283 \n",
      "Epoch 4: val_accuracy improved from 0.46939 to 0.62245, saving model to model_weights.h5\n",
      "8/8 [==============================] - 92s 12s/step - loss: 0.6404 - accuracy: 0.6283 - val_loss: 0.6224 - val_accuracy: 0.6224\n",
      "Epoch 5/25\n",
      "8/8 [==============================] - ETA: 0s - loss: 0.6039 - accuracy: 0.6700 \n",
      "Epoch 5: val_accuracy improved from 0.62245 to 0.74490, saving model to model_weights.h5\n",
      "8/8 [==============================] - 85s 11s/step - loss: 0.6039 - accuracy: 0.6700 - val_loss: 0.5811 - val_accuracy: 0.7449\n",
      "Epoch 6/25\n",
      "8/8 [==============================] - ETA: 0s - loss: 0.5606 - accuracy: 0.7257\n",
      "Epoch 6: val_accuracy did not improve from 0.74490\n",
      "8/8 [==============================] - 78s 9s/step - loss: 0.5606 - accuracy: 0.7257 - val_loss: 0.6563 - val_accuracy: 0.6327\n",
      "Epoch 7/25\n",
      "8/8 [==============================] - ETA: 0s - loss: 0.5010 - accuracy: 0.7535 \n",
      "Epoch 7: val_accuracy did not improve from 0.74490\n",
      "8/8 [==============================] - 81s 11s/step - loss: 0.5010 - accuracy: 0.7535 - val_loss: 0.5517 - val_accuracy: 0.7245\n",
      "Epoch 8/25\n",
      "8/8 [==============================] - ETA: 0s - loss: 0.4467 - accuracy: 0.7889 \n",
      "Epoch 8: val_accuracy improved from 0.74490 to 0.76531, saving model to model_weights.h5\n",
      "8/8 [==============================] - 81s 11s/step - loss: 0.4467 - accuracy: 0.7889 - val_loss: 0.4638 - val_accuracy: 0.7653\n",
      "Epoch 9/25\n",
      "8/8 [==============================] - ETA: 0s - loss: 0.3815 - accuracy: 0.8243\n",
      "Epoch 9: val_accuracy did not improve from 0.76531\n",
      "8/8 [==============================] - 69s 8s/step - loss: 0.3815 - accuracy: 0.8243 - val_loss: 0.6048 - val_accuracy: 0.7245\n",
      "Epoch 10/25\n",
      "8/8 [==============================] - ETA: 0s - loss: 0.3200 - accuracy: 0.8458\n",
      "Epoch 10: val_accuracy did not improve from 0.76531\n",
      "8/8 [==============================] - 60s 8s/step - loss: 0.3200 - accuracy: 0.8458 - val_loss: 0.7044 - val_accuracy: 0.7551\n",
      "Epoch 11/25\n",
      "8/8 [==============================] - ETA: 0s - loss: 0.2885 - accuracy: 0.8698\n",
      "Epoch 11: val_accuracy improved from 0.76531 to 0.79592, saving model to model_weights.h5\n",
      "8/8 [==============================] - 69s 8s/step - loss: 0.2885 - accuracy: 0.8698 - val_loss: 0.4694 - val_accuracy: 0.7959\n",
      "Epoch 12/25\n",
      "8/8 [==============================] - ETA: 0s - loss: 0.2348 - accuracy: 0.8951\n",
      "Epoch 12: val_accuracy did not improve from 0.79592\n",
      "8/8 [==============================] - 61s 7s/step - loss: 0.2348 - accuracy: 0.8951 - val_loss: 0.5657 - val_accuracy: 0.7959\n",
      "Epoch 13/25\n",
      "8/8 [==============================] - ETA: 0s - loss: 0.2203 - accuracy: 0.9014\n",
      "Epoch 13: val_accuracy did not improve from 0.79592\n",
      "8/8 [==============================] - 57s 7s/step - loss: 0.2203 - accuracy: 0.9014 - val_loss: 0.4529 - val_accuracy: 0.7959\n",
      "Epoch 14/25\n",
      "8/8 [==============================] - ETA: 0s - loss: 0.2047 - accuracy: 0.9191\n",
      "Epoch 14: val_accuracy improved from 0.79592 to 0.80612, saving model to model_weights.h5\n",
      "8/8 [==============================] - 50s 6s/step - loss: 0.2047 - accuracy: 0.9191 - val_loss: 0.5709 - val_accuracy: 0.8061\n",
      "Epoch 15/25\n",
      "8/8 [==============================] - ETA: 0s - loss: 0.2067 - accuracy: 0.9102\n",
      "Epoch 15: val_accuracy did not improve from 0.80612\n",
      "8/8 [==============================] - 50s 6s/step - loss: 0.2067 - accuracy: 0.9102 - val_loss: 0.6003 - val_accuracy: 0.7551\n",
      "Epoch 16/25\n",
      "8/8 [==============================] - ETA: 0s - loss: 0.1862 - accuracy: 0.9267\n",
      "Epoch 16: val_accuracy improved from 0.80612 to 0.84694, saving model to model_weights.h5\n",
      "8/8 [==============================] - 53s 6s/step - loss: 0.1862 - accuracy: 0.9267 - val_loss: 0.3196 - val_accuracy: 0.8469\n",
      "Epoch 17/25\n",
      "8/8 [==============================] - ETA: 0s - loss: 0.1184 - accuracy: 0.9532\n",
      "Epoch 17: val_accuracy did not improve from 0.84694\n",
      "8/8 [==============================] - 51s 7s/step - loss: 0.1184 - accuracy: 0.9532 - val_loss: 0.4241 - val_accuracy: 0.8469\n",
      "Epoch 18/25\n",
      "8/8 [==============================] - ETA: 0s - loss: 0.1090 - accuracy: 0.9494\n",
      "Epoch 18: val_accuracy improved from 0.84694 to 0.88776, saving model to model_weights.h5\n",
      "8/8 [==============================] - 52s 7s/step - loss: 0.1090 - accuracy: 0.9494 - val_loss: 0.3347 - val_accuracy: 0.8878\n",
      "Epoch 19/25\n",
      "8/8 [==============================] - ETA: 0s - loss: 0.1011 - accuracy: 0.9570\n",
      "Epoch 19: val_accuracy did not improve from 0.88776\n",
      "8/8 [==============================] - 56s 7s/step - loss: 0.1011 - accuracy: 0.9570 - val_loss: 0.4704 - val_accuracy: 0.8571\n",
      "Epoch 20/25\n",
      "8/8 [==============================] - ETA: 0s - loss: 0.1003 - accuracy: 0.9684\n",
      "Epoch 20: val_accuracy did not improve from 0.88776\n",
      "8/8 [==============================] - 55s 7s/step - loss: 0.1003 - accuracy: 0.9684 - val_loss: 0.3556 - val_accuracy: 0.8469\n",
      "Epoch 21/25\n",
      "8/8 [==============================] - ETA: 0s - loss: 0.0937 - accuracy: 0.9621\n",
      "Epoch 21: val_accuracy improved from 0.88776 to 0.92857, saving model to model_weights.h5\n",
      "8/8 [==============================] - 59s 8s/step - loss: 0.0937 - accuracy: 0.9621 - val_loss: 0.2512 - val_accuracy: 0.9286\n",
      "Epoch 22/25\n",
      "8/8 [==============================] - ETA: 0s - loss: 0.0660 - accuracy: 0.9785\n",
      "Epoch 22: val_accuracy did not improve from 0.92857\n",
      "8/8 [==============================] - 64s 8s/step - loss: 0.0660 - accuracy: 0.9785 - val_loss: 0.3420 - val_accuracy: 0.8980\n",
      "Epoch 23/25\n",
      "8/8 [==============================] - ETA: 0s - loss: 0.0705 - accuracy: 0.9722\n",
      "Epoch 23: val_accuracy did not improve from 0.92857\n",
      "8/8 [==============================] - 54s 7s/step - loss: 0.0705 - accuracy: 0.9722 - val_loss: 0.2941 - val_accuracy: 0.9286\n",
      "Epoch 24/25\n",
      "8/8 [==============================] - ETA: 0s - loss: 0.0683 - accuracy: 0.9709\n",
      "Epoch 24: val_accuracy did not improve from 0.92857\n",
      "8/8 [==============================] - 50s 6s/step - loss: 0.0683 - accuracy: 0.9709 - val_loss: 0.2711 - val_accuracy: 0.8980\n",
      "Epoch 25/25\n",
      "8/8 [==============================] - ETA: 0s - loss: 0.0778 - accuracy: 0.9684\n",
      "Epoch 25: val_accuracy did not improve from 0.92857\n",
      "8/8 [==============================] - 52s 6s/step - loss: 0.0778 - accuracy: 0.9684 - val_loss: 0.3344 - val_accuracy: 0.9082\n"
     ]
    }
   ],
   "source": [
    "## lets train our CNN\n",
    "checkpoint = ModelCheckpoint(\"model_weights.h5\", monitor='val_accuracy', verbose=1, save_best_only=True, mode='max')\n",
    "callbacks_list = [checkpoint]\n",
    "history = model.fit(training_data, validation_data=validation_data, epochs = 25, callbacks=callbacks_list)"
   ]
  },
  {
   "cell_type": "code",
   "execution_count": 13,
   "id": "1d0e4f18",
   "metadata": {
    "papermill": {
     "duration": 0.09748,
     "end_time": "2022-06-06T11:45:04.382001",
     "exception": false,
     "start_time": "2022-06-06T11:45:04.284521",
     "status": "completed"
    },
    "tags": []
   },
   "outputs": [],
   "source": [
    "###### serialize model structure to JSON\n",
    "model_json = model.to_json()\n",
    "with open(\"model.json\", \"w\") as json_file:\n",
    "    json_file.write(model_json)"
   ]
  },
  {
   "cell_type": "code",
   "execution_count": 14,
   "id": "4f688b53",
   "metadata": {
    "papermill": {
     "duration": 0.389861,
     "end_time": "2022-06-06T11:45:04.856513",
     "exception": false,
     "start_time": "2022-06-06T11:45:04.466652",
     "status": "completed"
    },
    "tags": []
   },
   "outputs": [
    {
     "data": {
      "text/plain": [
       "<matplotlib.legend.Legend at 0x18d12bd8ad0>"
      ]
     },
     "execution_count": 14,
     "metadata": {},
     "output_type": "execute_result"
    },
    {
     "data": {
      "image/png": "[encoded data removed]",
      "text/plain": [
       "<Figure size 640x480 with 1 Axes>"
      ]
     },
     "metadata": {},
     "output_type": "display_data"
    }
   ],
   "source": [
    "## stats on training data\n",
    "plt.plot(history.history['loss'], label = 'training loss')\n",
    "plt.plot(history.history['accuracy'], label = 'training accuracy')\n",
    "plt.grid(True)\n",
    "plt.legend()"
   ]
  },
  {
   "cell_type": "code",
   "execution_count": 15,
   "id": "aeb2c132",
   "metadata": {
    "papermill": {
     "duration": 0.329018,
     "end_time": "2022-06-06T11:45:05.272358",
     "exception": false,
     "start_time": "2022-06-06T11:45:04.943340",
     "status": "completed"
    },
    "tags": []
   },
   "outputs": [
    {
     "data": {
      "text/plain": [
       "<matplotlib.legend.Legend at 0x18d5e9c77d0>"
      ]
     },
     "execution_count": 15,
     "metadata": {},
     "output_type": "execute_result"
    },
    {
     "data": {
      "image/png": "[encoded data removed]",
      "text/plain": [
       "<Figure size 640x480 with 1 Axes>"
      ]
     },
     "metadata": {},
     "output_type": "display_data"
    }
   ],
   "source": [
    "## stats on training data\n",
    "plt.plot(history.history['val_loss'], label = 'validation loss')\n",
    "plt.plot(history.history['val_accuracy'], label = 'validation accuracy')\n",
    "plt.grid(True)\n",
    "plt.legend()"
   ]
  },
  {
   "cell_type": "code",
   "execution_count": 16,
   "id": "8663a254",
   "metadata": {
    "papermill": {
     "duration": 0.148052,
     "end_time": "2022-06-06T11:45:12.933355",
     "exception": false,
     "start_time": "2022-06-06T11:45:12.785303",
     "status": "completed"
    },
    "tags": []
   },
   "outputs": [],
   "source": [
    "## Load the best model from checkpoint\n",
    "best_model = load_model(\"model_weights.h5\")"
   ]
  },
  {
   "cell_type": "code",
   "execution_count": 18,
   "id": "033140d9-3649-4fa0-9e3b-576fdf777934",
   "metadata": {},
   "outputs": [
    {
     "name": "stdout",
     "output_type": "stream",
     "text": [
      "1/1 [==============================] - 3s 3s/step - loss: 0.2428 - accuracy: 0.9100\n",
      "Test Loss: 0.24275541305541992\n",
      "Test Accuracy: 0.9100000262260437\n"
     ]
    }
   ],
   "source": [
    "## Evaluate the best model on the testing dataset\n",
    "test_loss, test_accuracy = best_model.evaluate(testing_data)\n",
    "print(\"Test Loss:\", test_loss)\n",
    "print(\"Test Accuracy:\", test_accuracy)"
   ]
  },
  {
   "cell_type": "code",
   "execution_count": null,
   "id": "6a5ee725-4e09-4622-8ac2-5e4a0ad5e695",
   "metadata": {},
   "outputs": [],
   "source": []
  }
 ],
 "metadata": {
  "interpreter": {
   "hash": "916dbcbb3f70747c44a77c7bcd40155683ae19c65e1c03b4aa3499c5328201f1"
  },
  "kernelspec": {
   "display_name": "Python 3 (ipykernel)",
   "language": "python",
   "name": "python3"
  },
  "language_info": {
   "codemirror_mode": {
    "name": "ipython",
    "version": 3
   },
   "file_extension": ".py",
   "mimetype": "text/x-python",
   "name": "python",
   "nbconvert_exporter": "python",
   "pygments_lexer": "ipython3",
   "version": "3.11.7"
  },
  "papermill": {
   "default_parameters": {},
   "duration": 1402.432589,
   "end_time": "2022-06-06T11:45:16.380977",
   "environment_variables": {},
   "exception": null,
   "input_path": "__notebook__.ipynb",
   "output_path": "__notebook__.ipynb",
   "parameters": {},
   "start_time": "2022-06-06T11:21:53.948388",
   "version": "2.3.3"
  }
 },
 "nbformat": 4,
 "nbformat_minor": 5
}
